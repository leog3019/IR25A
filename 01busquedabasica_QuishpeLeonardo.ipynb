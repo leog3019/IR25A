{
  "cells": [
    {
      "cell_type": "markdown",
      "id": "20980d198e5f991c",
      "metadata": {
        "id": "20980d198e5f991c"
      },
      "source": [
        "# Ejercicio 1: Introducción a Recuperación de Información\n",
        "\n",
        "## Objetivo de la práctica\n",
        "- Entender el problema de **buscar información** en colecciones de texto.\n",
        "- Comprender por qué se necesita un **índice invertido** en recuperación de información.\n",
        "- Programar una primera solución manual y luego optimizarla con un índice.\n",
        "- Evaluar la mejora en tiempos de búsqueda cuando usamos estructuras adecuadas."
      ]
    },
    {
      "cell_type": "markdown",
      "id": "175182ac2f1f542c",
      "metadata": {
        "id": "175182ac2f1f542c"
      },
      "source": [
        "## Parte 1: Búsqueda lineal en documentos\n",
        "\n",
        "### Actividad\n",
        "1. Se te proporcionará un conjunto de documentos de texto.\n",
        "2. Escribe una función que:\n",
        "   - Lea todos los documentos.\n",
        "   - Busque una palabra ingresada por el usuario.\n",
        "   - Muestre en qué documentos aparece la palabra.\n"
      ]
    },
    {
      "cell_type": "code",
      "execution_count": 4,
      "id": "initial_id",
      "metadata": {
        "collapsed": true,
        "colab": {
          "base_uri": "https://localhost:8080/"
        },
        "id": "initial_id",
        "outputId": "eb4bbfc4-4517-426a-c43d-3d4c610131fc"
      },
      "outputs": [
        {
          "output_type": "stream",
          "name": "stdout",
          "text": [
            "Ingresa la palabra a buscar: Ecuador\n",
            "La palabra 'Ecuador' aparece en el documento 1.\n"
          ]
        }
      ],
      "source": [
        "def buscar_palabra(query):\n",
        "    archivo = '01_corpus_turismo.txt'\n",
        "    with open(archivo, 'r') as f:\n",
        "        lineas = f.readlines()\n",
        "\n",
        "    encontrado = False\n",
        "    for i, linea in enumerate(lineas, 1):\n",
        "        if query in linea:\n",
        "            print(f\"La palabra '{query}' aparece en el documento {i}.\")\n",
        "            encontrado = True\n",
        "\n",
        "    if not encontrado:\n",
        "        print(f\"La palabra '{query}' no aparece en ningún documento.\")\n",
        "\n",
        "query = input(\"Ingresa la palabra a buscar: \")\n",
        "\n",
        "buscar_palabra(query)"
      ]
    },
    {
      "cell_type": "markdown",
      "id": "57c9797b0bf7f4bb",
      "metadata": {
        "id": "57c9797b0bf7f4bb"
      },
      "source": [
        "## Parte 2: Construcción de un índice invertido\n",
        "\n",
        "### Actividad\n",
        "1. Escribe un programa que:\n",
        "   - Recorra todos los documentos.\n",
        "   - Construya un **índice invertido**, es decir, un diccionario donde:\n",
        "     - Cada palabra clave apunta a una lista de documentos donde aparece.\n",
        "\n",
        "2. Escribe una nueva función de búsqueda que:\n",
        "   - Consulte directamente el índice para encontrar los documentos relevantes.\n",
        "   - Sea mucho más rápida que la búsqueda lineal."
      ]
    },
    {
      "cell_type": "code",
      "execution_count": 13,
      "id": "34e7a4522b06d969",
      "metadata": {
        "colab": {
          "base_uri": "https://localhost:8080/"
        },
        "id": "34e7a4522b06d969",
        "outputId": "f9c3de8d-4ff3-4277-cfbb-b444e4ff1b26"
      },
      "outputs": [
        {
          "output_type": "stream",
          "name": "stdout",
          "text": [
            "Ingresa la palabra a buscar: Otavalo\n",
            "La palabra 'Otavalo' aparece en las líneas: [1, 7, 29, 34, 57, 60, 65, 101, 111, 118, 119, 149, 159, 161, 191, 193, 204, 207, 216, 222, 297, 334, 335, 340, 342, 351, 358, 363, 367, 373, 380, 488, 496]\n"
          ]
        }
      ],
      "source": [
        "import re\n",
        "from collections import defaultdict\n",
        "\n",
        "def construir_indice_invertido(nombre_archivo):\n",
        "    indice = defaultdict(set)\n",
        "\n",
        "    with open(nombre_archivo, 'r') as f:\n",
        "        lineas = f.readlines()\n",
        "\n",
        "    for num_linea, linea in enumerate(lineas, 1):\n",
        "        palabras = re.findall(r'\\b\\w+\\b', linea)\n",
        "        for palabra in palabras:\n",
        "            indice[palabra].add(num_linea)\n",
        "\n",
        "    return indice\n",
        "\n",
        "def buscar_en_indice(indice, palabra):\n",
        "    if palabra in indice:\n",
        "        lineas = sorted(indice[palabra])\n",
        "        print(f\"La palabra '{palabra}' aparece en las líneas: {lineas}\")\n",
        "    else:\n",
        "        print(f\"La palabra '{palabra}' no aparece en el texto.\")\n",
        "\n",
        "archivo = '01_corpus_turismo_500.txt'\n",
        "indice_invertido = construir_indice_invertido(archivo)\n",
        "\n",
        "query = input(\"Ingresa la palabra a buscar: \")\n",
        "buscar_en_indice(indice_invertido, query)\n"
      ]
    },
    {
      "cell_type": "markdown",
      "id": "3f311d0944a2f98d",
      "metadata": {
        "id": "3f311d0944a2f98d"
      },
      "source": [
        "## Parte 3: Evaluación de tiempos de búsqueda\n",
        "### Actividad\n",
        "\n",
        "1. Realiza la búsqueda de varias palabras usando:\n",
        "      -  Corpus pequeño: 16 documentos (turismo en Ecuador).\n",
        "      -  Corpus grande: 500 documentos (versión ampliada).\n",
        "2. Mide el tiempo de ejecución:\n",
        "      -  Para búsqueda lineal.\n",
        "      -  Para búsqueda usando índice invertido.\n",
        "      -  Grafica o presenta los resultados en una tabla comparativa.\n",
        "\n",
        "### Ejemplo de palabras para buscar\n",
        "- quito\n",
        "- montañita\n",
        "- feriado\n",
        "- playas\n",
        "- aventura\n",
        "- galápagos"
      ]
    },
    {
      "cell_type": "code",
      "execution_count": 17,
      "id": "15211fcaadfeb175",
      "metadata": {
        "colab": {
          "base_uri": "https://localhost:8080/"
        },
        "id": "15211fcaadfeb175",
        "outputId": "59cda4c1-aaf3-4e5d-cdd8-d86507697968"
      },
      "outputs": [
        {
          "output_type": "stream",
          "name": "stdout",
          "text": [
            "Evaluación de tiempos:\n",
            "\n",
            "Tiempo para construir el índice: 0.004142 segundos\n",
            "\n",
            "Palabra\t\tLineal (s)\tÍndice (s)\n",
            "----------------------------------------\n",
            "quito       \t0.000310\t0.000005\n",
            "montañita   \t0.000237\t0.000002\n",
            "feriado     \t0.000277\t0.000008\n",
            "playas      \t0.000211\t0.000007\n",
            "aventura    \t0.000237\t0.000006\n",
            "galápagos   \t0.000227\t0.000002\n"
          ]
        }
      ],
      "source": [
        "import re\n",
        "import time\n",
        "from collections import defaultdict\n",
        "\n",
        "def construir_indice_invertido(nombre_archivo):\n",
        "    indice = defaultdict(set)\n",
        "    with open(nombre_archivo, 'r') as f:\n",
        "        lineas = f.readlines()\n",
        "    for num_linea, linea in enumerate(lineas, 1):\n",
        "        palabras = re.findall(r'\\b\\w+\\b', linea)\n",
        "        for palabra in palabras:\n",
        "            indice[palabra].add(num_linea)\n",
        "    return indice\n",
        "\n",
        "def busqueda_lineal(nombre_archivo, palabra):\n",
        "    with open(nombre_archivo, 'r', encoding='utf-8') as f:\n",
        "        lineas = f.readlines()\n",
        "    resultado = []\n",
        "    for i, linea in enumerate(lineas, 1):\n",
        "        if palabra in linea:\n",
        "            resultado.append(i)\n",
        "    return resultado\n",
        "\n",
        "def busqueda_indice(indice, palabra):\n",
        "    return sorted(indice.get(palabra, []))\n",
        "\n",
        "def evaluar_tiempos(nombre_archivo, palabras):\n",
        "    print(\"Evaluación de tiempos:\\n\")\n",
        "\n",
        "    t0 = time.time()\n",
        "    indice = construir_indice_invertido(nombre_archivo)\n",
        "    t1 = time.time()\n",
        "    tiempo_indice = t1 - t0\n",
        "\n",
        "    print(f\"Tiempo para construir el índice: {tiempo_indice:.6f} segundos\\n\")\n",
        "\n",
        "    print(\"Palabra\\t\\tLineal (s)\\tÍndice (s)\")\n",
        "    print(\"-\" * 40)\n",
        "\n",
        "    for palabra in palabras:\n",
        "\n",
        "        t_start = time.time()\n",
        "        resultado_lineal = busqueda_lineal(nombre_archivo, palabra)\n",
        "        t_end = time.time()\n",
        "        tiempo_lineal = t_end - t_start\n",
        "\n",
        "        t_start = time.time()\n",
        "        resultado_indice = busqueda_indice(indice, palabra)\n",
        "        t_end = time.time()\n",
        "        tiempo_ii = t_end - t_start\n",
        "\n",
        "        print(f\"{palabra:<12}\\t{tiempo_lineal:.6f}\\t{tiempo_ii:.6f}\")\n",
        "\n",
        "palabras_prueba = [\"quito\", \"montañita\", \"feriado\", \"playas\", \"aventura\", \"galápagos\"]\n",
        "\n",
        "archivo = '01_corpus_turismo_500.txt'\n",
        "\n",
        "evaluar_tiempos(archivo, palabras_prueba)\n"
      ]
    },
    {
      "cell_type": "markdown",
      "id": "93a841af5ef64dd7",
      "metadata": {
        "id": "93a841af5ef64dd7"
      },
      "source": [
        "## Parte 4:\n",
        "### Actividad\n",
        "1. Modifica el índice para que ignore mayúsculas/minúsculas (por ejemplo, \"Playa\" y \"playa\" deben considerarse iguales).\n",
        "2. Permite consultas de múltiples términos (ejemplo: buscar documentos que contengan \"playa\" y \"turismo\").\n",
        "3. Calcula el _speedup_"
      ]
    },
    {
      "cell_type": "code",
      "execution_count": 18,
      "id": "66741cbd7ba00bb6",
      "metadata": {
        "colab": {
          "base_uri": "https://localhost:8080/"
        },
        "id": "66741cbd7ba00bb6",
        "outputId": "fd003d4f-2b5e-4e76-e71a-7e4322f91ab5"
      },
      "outputs": [
        {
          "output_type": "stream",
          "name": "stdout",
          "text": [
            "Consulta\t\tLineal(s)\tÍndice(s)\tSpeedup\n",
            "------------------------------------------------------------\n",
            "playa               \t0.000169\t0.000006\t27.23x\n",
            "turismo             \t0.000070\t0.000003\t20.93x\n",
            "playa turismo       \t0.000061\t0.000004\t15.94x\n",
            "quito aventura      \t0.000057\t0.000005\t12.00x\n",
            "montañita feriado   \t0.000055\t0.000004\t12.83x\n"
          ]
        }
      ],
      "source": [
        "import re\n",
        "import time\n",
        "from collections import defaultdict\n",
        "\n",
        "def construir_indice_invertido(nombre_archivo):\n",
        "    indice = defaultdict(set)\n",
        "    with open(nombre_archivo, 'r', encoding='utf-8') as f:\n",
        "        lineas = f.readlines()\n",
        "    for num_linea, linea in enumerate(lineas, 1):\n",
        "        palabras = re.findall(r'\\b\\w+\\b', linea.lower())\n",
        "        for palabra in palabras:\n",
        "            indice[palabra].add(num_linea)\n",
        "    return indice\n",
        "\n",
        "def busqueda_lineal(nombre_archivo, consulta):\n",
        "    terminos = consulta.lower().split()\n",
        "    with open(nombre_archivo, 'r', encoding='utf-8') as f:\n",
        "        lineas = f.readlines()\n",
        "\n",
        "    resultados = set()\n",
        "    for i, linea in enumerate(lineas, 1):\n",
        "        linea_l = linea.lower()\n",
        "        if all(termino in linea_l for termino in terminos):\n",
        "            resultados.add(i)\n",
        "    return sorted(resultados)\n",
        "\n",
        "def busqueda_indice(indice, consulta):\n",
        "    terminos = consulta.lower().split()\n",
        "    listas = [indice.get(t, set()) for t in terminos]\n",
        "    if not listas:\n",
        "        return []\n",
        "    resultado = set.intersection(*listas)\n",
        "    return sorted(resultado)\n",
        "\n",
        "# Evaluación y Speedup\n",
        "def evaluar_speedup(nombre_archivo, consultas):\n",
        "    print(\"Consulta\\t\\tLineal(s)\\tÍndice(s)\\tSpeedup\")\n",
        "    print(\"-\" * 60)\n",
        "\n",
        "    indice = construir_indice_invertido(nombre_archivo)\n",
        "\n",
        "    for consulta in consultas:\n",
        "        t0 = time.time()\n",
        "        res_lineal = busqueda_lineal(nombre_archivo, consulta)\n",
        "        t1 = time.time()\n",
        "        tiempo_lineal = t1 - t0\n",
        "\n",
        "        t0 = time.time()\n",
        "        res_indice = busqueda_indice(indice, consulta)\n",
        "        t1 = time.time()\n",
        "        tiempo_indice = t1 - t0\n",
        "\n",
        "        speedup = tiempo_lineal / tiempo_indice if tiempo_indice > 0 else float('inf')\n",
        "\n",
        "        print(f\"{consulta:<20}\\t{tiempo_lineal:.6f}\\t{tiempo_indice:.6f}\\t{speedup:.2f}x\")\n",
        "\n",
        "# PRUEBA\n",
        "archivo = '01_corpus_turismo.txt'\n",
        "consultas = [\n",
        "    \"playa\",\n",
        "    \"turismo\",\n",
        "    \"playa turismo\",\n",
        "    \"quito aventura\",\n",
        "    \"montañita feriado\"\n",
        "]\n",
        "\n",
        "evaluar_speedup(archivo, consultas)\n"
      ]
    }
  ],
  "metadata": {
    "kernelspec": {
      "display_name": "IR25A",
      "language": "python",
      "name": "python3"
    },
    "language_info": {
      "codemirror_mode": {
        "name": "ipython",
        "version": 3
      },
      "file_extension": ".py",
      "mimetype": "text/x-python",
      "name": "python",
      "nbconvert_exporter": "python",
      "pygments_lexer": "ipython3",
      "version": "3.13.2"
    },
    "colab": {
      "provenance": []
    }
  },
  "nbformat": 4,
  "nbformat_minor": 5
}