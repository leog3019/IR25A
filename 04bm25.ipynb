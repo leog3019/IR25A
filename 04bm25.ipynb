{
 "cells": [
  {
   "cell_type": "markdown",
   "id": "941741204a003f44",
   "metadata": {},
   "source": [
    "# Ejercicio 4: Modelo Probabilístico\n",
    "\n",
    "### Nombre: Leonardo Quishpe\n",
    "\n",
    "## Objetivo de la práctica\n",
    "- Comprender los componentes del modelo vectorial mediante cálculos manuales y observación directa.\n",
    "- Aplicar el modelo de espacio vectorial con TF-IDF para recuperar documentos relevantes.\n",
    "- Comparar la recuperación con BM25 frente a TF-IDF.\n",
    "- Analizar visualmente las diferencias entre los modelos.\n",
    "- Evaluar si los rankings generados son consistentes con lo que considerarías documentos relevantes."
   ]
  },
  {
   "cell_type": "markdown",
   "id": "93bafe7a6a4ef9e5",
   "metadata": {},
   "source": [
    "## Parte 0: Carga del Corpus"
   ]
  },
  {
   "cell_type": "code",
   "execution_count": 1,
   "id": "ac13169d",
   "metadata": {},
   "outputs": [
    {
     "name": "stdout",
     "output_type": "stream",
     "text": [
      "Defaulting to user installation because normal site-packages is not writeable\n",
      "Requirement already satisfied: scikit-learn in c:\\users\\leo\\appdata\\roaming\\python\\python313\\site-packages (1.6.1)\n",
      "Requirement already satisfied: numpy>=1.19.5 in c:\\users\\leo\\appdata\\roaming\\python\\python313\\site-packages (from scikit-learn) (2.2.6)\n",
      "Requirement already satisfied: scipy>=1.6.0 in c:\\users\\leo\\appdata\\roaming\\python\\python313\\site-packages (from scikit-learn) (1.15.3)\n",
      "Requirement already satisfied: joblib>=1.2.0 in c:\\users\\leo\\appdata\\roaming\\python\\python313\\site-packages (from scikit-learn) (1.5.0)\n",
      "Requirement already satisfied: threadpoolctl>=3.1.0 in c:\\users\\leo\\appdata\\roaming\\python\\python313\\site-packages (from scikit-learn) (3.6.0)\n",
      "Defaulting to user installation because normal site-packages is not writeable\n",
      "Requirement already satisfied: pandas in c:\\users\\leo\\appdata\\roaming\\python\\python313\\site-packages (2.2.3)\n",
      "Requirement already satisfied: numpy>=1.26.0 in c:\\users\\leo\\appdata\\roaming\\python\\python313\\site-packages (from pandas) (2.2.6)\n",
      "Requirement already satisfied: python-dateutil>=2.8.2 in c:\\users\\leo\\appdata\\roaming\\python\\python313\\site-packages (from pandas) (2.9.0.post0)\n",
      "Requirement already satisfied: pytz>=2020.1 in c:\\users\\leo\\appdata\\roaming\\python\\python313\\site-packages (from pandas) (2025.2)\n",
      "Requirement already satisfied: tzdata>=2022.7 in c:\\users\\leo\\appdata\\roaming\\python\\python313\\site-packages (from pandas) (2025.2)\n",
      "Requirement already satisfied: six>=1.5 in c:\\users\\leo\\appdata\\roaming\\python\\python313\\site-packages (from python-dateutil>=2.8.2->pandas) (1.17.0)\n"
     ]
    }
   ],
   "source": [
    "!pip install scikit-learn\n",
    "!pip install pandas"
   ]
  },
  {
   "cell_type": "code",
   "execution_count": 2,
   "id": "ad08bb8bd43ae327",
   "metadata": {
    "ExecuteTime": {
     "end_time": "2025-05-21T14:16:07.323562Z",
     "start_time": "2025-05-21T14:16:05.364309Z"
    }
   },
   "outputs": [
    {
     "name": "stdout",
     "output_type": "stream",
     "text": [
      "Number of documents: 18846\n",
      "Primer documento len: 712\n",
      "Tamaño de la lista: 150824 bytes\n"
     ]
    }
   ],
   "source": [
    "from sklearn.datasets import fetch_20newsgroups # type: ignore\n",
    "import sys\n",
    "\n",
    "newsgroups = fetch_20newsgroups(subset='all', remove=('headers', 'footers', 'quotes'))\n",
    "newsgroupsdocs = newsgroups.data\n",
    "\n",
    "print(\"Number of documents:\", len(newsgroupsdocs))\n",
    "print(\"Primer documento len:\", len(newsgroupsdocs[0]))\n",
    "print(\"Tamaño de la lista:\", sys.getsizeof(newsgroupsdocs), \"bytes\")"
   ]
  },
  {
   "cell_type": "markdown",
   "id": "10f8c7f78934f497",
   "metadata": {},
   "source": [
    "## Parte 1: Cálculo de TF, DF, IDF y TF-IDF\n",
    "\n",
    "### Actividad \n",
    "1. Utiliza el corpus cargado.\n",
    "2. Construye la matriz de términos (TF), y calcula la frecuencia de documentos (DF)\n",
    "3. Calcula TF-IDF utilizando sklearn.\n",
    "4. Visualiza los valores en un DataFrame para analizar las diferencias entre los términos."
   ]
  },
  {
   "cell_type": "code",
   "execution_count": 3,
   "id": "5aec4764",
   "metadata": {},
   "outputs": [],
   "source": [
    "import pandas as pd\n",
    "from sklearn.feature_extraction.text import TfidfVectorizer # type: ignore"
   ]
  },
  {
   "cell_type": "code",
   "execution_count": 4,
   "id": "d2ebd9f1c1b6c787",
   "metadata": {},
   "outputs": [],
   "source": [
    "# 2. Construye la matriz de términos (TF) y calcula la frecuencia de documentos (DF)\n",
    "vectorizer = TfidfVectorizer()\n",
    "X_tfidf = vectorizer.fit_transform(newsgroupsdocs)\n",
    "\n",
    "#Obtener nombres de términos (palabras)\n",
    "terms = vectorizer.get_feature_names_out()"
   ]
  },
  {
   "cell_type": "code",
   "execution_count": 5,
   "id": "a9d5bfd3",
   "metadata": {},
   "outputs": [],
   "source": [
    "# 3. Calcular Frecuencia de Documentos (DF) por término\n",
    "# (cuántos documentos contienen al menos una vez cada término)\n",
    "df = (X_tfidf > 0).sum(axis=0).A1  # A1 para convertir matriz a array plano"
   ]
  },
  {
   "cell_type": "code",
   "execution_count": 6,
   "id": "6bb16284",
   "metadata": {},
   "outputs": [
    {
     "name": "stdout",
     "output_type": "stream",
     "text": [
      "       Término     DF       IDF\n",
      "116790     the  15749  1.179513\n",
      "117905      to  14108  1.289541\n",
      "25260      and  12991  1.372020\n",
      "89588       of  12809  1.386128\n",
      "65467       in  11842  1.464617\n",
      "67604       is  11685  1.477962\n",
      "67837       it  11029  1.535735\n",
      "116771    that  10974  1.540734\n",
      "54442      for  10406  1.593875\n",
      "60784     have   8722  1.770391\n",
      "117095    this   8665  1.776946\n",
      "90135       on   8596  1.784940\n",
      "132388     you   8447  1.802424\n",
      "29761       be   8140  1.839441\n",
      "127849    with   8063  1.848944\n",
      "88021      not   7664  1.899689\n",
      "26465      are   7404  1.934198\n",
      "33413      but   7395  1.935414\n",
      "64557       if   7383  1.937038\n",
      "90590       or   7177  1.965333\n"
     ]
    }
   ],
   "source": [
    "# 5. Crear un DataFrame para visualizar los resultados\n",
    "df_resultado = pd.DataFrame({\n",
    "    'Término': terms,\n",
    "    'DF': df,\n",
    "    'IDF': vectorizer.idf_,\n",
    "})\n",
    "\n",
    "print(df_resultado.sort_values(by='DF', ascending=False).head(20))"
   ]
  },
  {
   "cell_type": "markdown",
   "id": "64491bce5361e8b3",
   "metadata": {},
   "source": [
    "## Parte 2: Ranking de documentos usando TF-IDF\n",
    "\n",
    "### Actividad \n",
    "\n",
    "1. Dada una consulta, construye el vector de consulta\n",
    "2. Calcula la similitud coseno entre la consulta y cada documento usando los vectores TF-IDF\n",
    "3. Genera un ranking de los documentos ordenados por relevancia.\n",
    "4. Muestra los resultados en una tabla."
   ]
  },
  {
   "cell_type": "code",
   "execution_count": 7,
   "id": "9d082c4a156b9554",
   "metadata": {},
   "outputs": [
    {
     "name": "stdout",
     "output_type": "stream",
     "text": [
      "18846\n",
      "   Indice Documento  Similitud                                    Contenido\n",
      "0              1315   0.269169   But remember that had God extinguished ...\n",
      "1             13222   0.213187  You are right in supposing that the prob...\n",
      "2             15919   0.193458   Wetteland comes off the DL on April 23r...\n",
      "3              9048   0.176817  I am 35 and am recovering from a case of...\n",
      "4               357   0.158946  i read about the code you can put in to ...\n",
      "\n",
      "But remember that had God extinguished the blasphemous trash of Europe (and\n",
      "Imperialism with it), the United States would not exist today to put an end\n",
      "to those \"games\"....begs the question, which came first, the chicken or the\n",
      "egg???\n"
     ]
    }
   ],
   "source": [
    "from sklearn.metrics.pairwise import cosine_similarity\n",
    "\n",
    "# 3. Definir una consulta (puedes cambiarla por lo que necesites)\n",
    "consulta = [\"chicken\"]\n",
    "\n",
    "# 4. Vectorizar la consulta usando el mismo vectorizador entrenado\n",
    "consulta_tfidf = vectorizer.transform(consulta)\n",
    "\n",
    "# 5. Calcular la similitud coseno entre la consulta y todos los documentos\n",
    "similitudes = cosine_similarity(consulta_tfidf, X_tfidf).flatten()\n",
    "\n",
    "# 6. Obtener el ranking (índices de documentos más relevantes)\n",
    "ranking_indices = similitudes.argsort()[::-1]\n",
    "\n",
    "# 7. Mostrar el top N resultados\n",
    "top_n = 5\n",
    "resultados = pd.DataFrame({\n",
    "    'Indice Documento': ranking_indices[:top_n],\n",
    "    'Similitud': similitudes[ranking_indices[:top_n]],\n",
    "    'Contenido': [newsgroupsdocs[i][:40].replace('\\n', ' ') + \"...\" for i in ranking_indices[:top_n]]\n",
    "})\n",
    "\n",
    "# Mostrar la tabla\n",
    "docmasparecido = ranking_indices[0]\n",
    "print(similitudes.size)\n",
    "print(resultados)\n",
    "print(newsgroupsdocs[docmasparecido])"
   ]
  },
  {
   "cell_type": "markdown",
   "id": "97061325508dc5f2",
   "metadata": {},
   "source": [
    "## Parte 3: Ranking con BM25\n",
    "\n",
    "### Actividad \n",
    "\n",
    "1. Implementa un sistema de recuperación usando el modelo BM25.\n",
    "2. Usa la misma consulta del ejercicio anterior.\n",
    "3. Calcula el score BM25 para cada documento y genera un ranking.\n",
    "4. Compara manualmente con el ranking de TF-IDF."
   ]
  },
  {
   "cell_type": "code",
   "execution_count": 8,
   "id": "2a0dca2bcfa73c5b",
   "metadata": {},
   "outputs": [
    {
     "name": "stdout",
     "output_type": "stream",
     "text": [
      "Defaulting to user installation because normal site-packages is not writeable\n",
      "Requirement already satisfied: rank_bm25 in c:\\users\\leo\\appdata\\roaming\\python\\python313\\site-packages (0.2.2)\n",
      "Requirement already satisfied: numpy in c:\\users\\leo\\appdata\\roaming\\python\\python313\\site-packages (from rank_bm25) (2.2.6)\n"
     ]
    }
   ],
   "source": [
    "!pip install rank_bm25"
   ]
  },
  {
   "cell_type": "code",
   "execution_count": 10,
   "id": "808fa7ab",
   "metadata": {},
   "outputs": [
    {
     "data": {
      "text/html": [
       "<div>\n",
       "<style scoped>\n",
       "    .dataframe tbody tr th:only-of-type {\n",
       "        vertical-align: middle;\n",
       "    }\n",
       "\n",
       "    .dataframe tbody tr th {\n",
       "        vertical-align: top;\n",
       "    }\n",
       "\n",
       "    .dataframe thead th {\n",
       "        text-align: right;\n",
       "    }\n",
       "</style>\n",
       "<table border=\"1\" class=\"dataframe\">\n",
       "  <thead>\n",
       "    <tr style=\"text-align: right;\">\n",
       "      <th></th>\n",
       "      <th>Documento</th>\n",
       "      <th>Score</th>\n",
       "      <th>Texto</th>\n",
       "    </tr>\n",
       "  </thead>\n",
       "  <tbody>\n",
       "    <tr>\n",
       "      <th>0</th>\n",
       "      <td>1315</td>\n",
       "      <td>11.197756</td>\n",
       "      <td>\\nBut remember that had God extinguished the b...</td>\n",
       "    </tr>\n",
       "    <tr>\n",
       "      <th>1</th>\n",
       "      <td>15919</td>\n",
       "      <td>10.327264</td>\n",
       "      <td>\\nWetteland comes off the DL on April 23rd, an...</td>\n",
       "    </tr>\n",
       "    <tr>\n",
       "      <th>2</th>\n",
       "      <td>13222</td>\n",
       "      <td>9.807438</td>\n",
       "      <td>You are right in supposing that the problem is...</td>\n",
       "    </tr>\n",
       "    <tr>\n",
       "      <th>3</th>\n",
       "      <td>9048</td>\n",
       "      <td>9.807438</td>\n",
       "      <td>I am 35 and am recovering from a case of Chick...</td>\n",
       "    </tr>\n",
       "    <tr>\n",
       "      <th>4</th>\n",
       "      <td>5738</td>\n",
       "      <td>8.446876</td>\n",
       "      <td>\\n\\nPlease note that Bill Clinton probably has...</td>\n",
       "    </tr>\n",
       "    <tr>\n",
       "      <th>5</th>\n",
       "      <td>897</td>\n",
       "      <td>7.851713</td>\n",
       "      <td>\\n\\nYou're reading far too much into this (asi...</td>\n",
       "    </tr>\n",
       "    <tr>\n",
       "      <th>6</th>\n",
       "      <td>18061</td>\n",
       "      <td>5.980072</td>\n",
       "      <td>This reminds me of the last Graham Kerr cookin...</td>\n",
       "    </tr>\n",
       "    <tr>\n",
       "      <th>7</th>\n",
       "      <td>6615</td>\n",
       "      <td>4.631736</td>\n",
       "      <td>&lt;\\n&lt;&gt;If the Clinton Clipper is so very good, [...</td>\n",
       "    </tr>\n",
       "    <tr>\n",
       "      <th>8</th>\n",
       "      <td>18338</td>\n",
       "      <td>3.630593</td>\n",
       "      <td>I've been thinking about the idea that was rai...</td>\n",
       "    </tr>\n",
       "    <tr>\n",
       "      <th>9</th>\n",
       "      <td>11732</td>\n",
       "      <td>2.919709</td>\n",
       "      <td>These are MY last words on the subject\\n\\n\\n\\n...</td>\n",
       "    </tr>\n",
       "  </tbody>\n",
       "</table>\n",
       "</div>"
      ],
      "text/plain": [
       "   Documento      Score                                              Texto\n",
       "0       1315  11.197756  \\nBut remember that had God extinguished the b...\n",
       "1      15919  10.327264  \\nWetteland comes off the DL on April 23rd, an...\n",
       "2      13222   9.807438  You are right in supposing that the problem is...\n",
       "3       9048   9.807438  I am 35 and am recovering from a case of Chick...\n",
       "4       5738   8.446876  \\n\\nPlease note that Bill Clinton probably has...\n",
       "5        897   7.851713  \\n\\nYou're reading far too much into this (asi...\n",
       "6      18061   5.980072  This reminds me of the last Graham Kerr cookin...\n",
       "7       6615   4.631736  <\\n<>If the Clinton Clipper is so very good, [...\n",
       "8      18338   3.630593  I've been thinking about the idea that was rai...\n",
       "9      11732   2.919709  These are MY last words on the subject\\n\\n\\n\\n..."
      ]
     },
     "metadata": {},
     "output_type": "display_data"
    }
   ],
   "source": [
    "from rank_bm25 import BM25Okapi\n",
    "import numpy as np\n",
    "\n",
    "# 1. Prepara el corpus tokenizado para BM25\n",
    "tokenized_corpus = [doc.lower().split() for doc in newsgroupsdocs]\n",
    "\n",
    "# 2. Crea el modelo BM25\n",
    "bm25 = BM25Okapi(tokenized_corpus)\n",
    "\n",
    "# 4. Calcula los scores BM25 para cada documento\n",
    "bm25_scores = bm25.get_scores(consulta)\n",
    "\n",
    "# 5. Genera el ranking de los documentos ordenados por relevancia\n",
    "ranking_bm25 = np.argsort(bm25_scores)[::-1]\n",
    "top_n = 10\n",
    "\n",
    "# 6. Muestra los resultados en una tabla\n",
    "resultados_bm25 = pd.DataFrame({\n",
    "    'Documento': ranking_bm25[:top_n],\n",
    "    'Score': bm25_scores[ranking_bm25[:top_n]],\n",
    "    'Texto': [newsgroupsdocs[i][:200] + \"...\" for i in ranking_bm25[:top_n]]\n",
    "})\n",
    "\n",
    "display(resultados_bm25)"
   ]
  },
  {
   "cell_type": "markdown",
   "id": "2c71b85e77b4b181",
   "metadata": {},
   "source": [
    "## Parte 4: Comparación visual entre TF-IDF y BM25\n",
    "\n",
    "### Actividad \n",
    "\n",
    "1. Utiliza un gráfico de barras para visualizar los scores obtenidos por cada documento según TF-IDF y BM25.\n",
    "2. Compara los rankings visualmente.\n",
    "3. Identifica: ¿Qué documentos obtienen scores más altos en un modelo que en otro?\n",
    "4. Sugiere: ¿A qué se podría deber esta diferencia?"
   ]
  },
  {
   "cell_type": "code",
   "execution_count": 11,
   "id": "16ad3d9d16c04d35",
   "metadata": {},
   "outputs": [
    {
     "data": {
      "image/png": "[encoded data removed]",
      "text/plain": [
       "<Figure size 1200x600 with 1 Axes>"
      ]
     },
     "metadata": {},
     "output_type": "display_data"
    }
   ],
   "source": [
    "%matplotlib inline\n",
    "import matplotlib.pyplot as plt\n",
    "\n",
    "# Selecciona los mismos documentos top_n para ambos modelos (por ejemplo, los top 10 de TF-IDF)\n",
    "top_n = 10\n",
    "top_tfidf_indices = ranking_indices[:top_n]\n",
    "\n",
    "# Prepara los datos para el gráfico\n",
    "tfidf_scores_top = similitudes[top_tfidf_indices]\n",
    "bm25_scores_top = bm25_scores[top_tfidf_indices]  # BM25 para los mismos docs que top TF-IDF\n",
    "\n",
    "# Gráfico de barras comparativo\n",
    "plt.figure(figsize=(12,6))\n",
    "plt.bar(range(top_n), tfidf_scores_top, width=0.4, label='TF-IDF', align='center')\n",
    "plt.bar([i + 0.4 for i in range(top_n)], bm25_scores_top, width=0.4, label='BM25', align='center')\n",
    "plt.xticks(range(top_n), top_tfidf_indices, rotation=45)\n",
    "plt.xlabel('Índice de Documento')\n",
    "plt.ylabel('Score')\n",
    "plt.title('Comparación de Scores: TF-IDF vs BM25 (Top 10 TF-IDF)')\n",
    "plt.legend()\n",
    "plt.tight_layout()\n",
    "plt.show()\n"
   ]
  },
  {
   "cell_type": "markdown",
   "id": "b97d171655ecfb",
   "metadata": {},
   "source": [
    "## Parte 5: Evaluación con consulta relevante\n",
    "\n",
    "### Actividad \n",
    "\n",
    "1. Elige una consulta y define qué documentos del corpus deberían considerarse relevantes.\n",
    "2. Evalúa Precision@3 o MAP para los rankings generados con TF-IDF y BM25.\n",
    "3. Responde: ¿Cuál modelo da mejores resultados respecto a tu criterio de relevancia?"
   ]
  },
  {
   "cell_type": "code",
   "execution_count": 20,
   "id": "6d5de59378900ca",
   "metadata": {},
   "outputs": [],
   "source": [
    "# Define la consulta y los documentos relevantes (ajusta los índices según tu criterio)\n",
    "consulta = [\"chicken\"]\n",
    "relevantes = {1315, 15919, 13222}  # <-- Cambia estos índices por los que consideres relevantes"
   ]
  },
  {
   "cell_type": "code",
   "execution_count": 21,
   "id": "69ba1240",
   "metadata": {},
   "outputs": [
    {
     "name": "stdout",
     "output_type": "stream",
     "text": [
      "TF-IDF Precision@3: 1.00\n",
      "BM25 Precision@3: 1.00\n",
      "TF-IDF MAP@10: 1.00\n",
      "BM25 MAP@10: 1.00\n"
     ]
    }
   ],
   "source": [
    "def precision_at_k(ranking, relevantes, k=3):\n",
    "    top_k = ranking[:k]\n",
    "    relevantes_en_top_k = sum(1 for idx in top_k if idx in relevantes)\n",
    "    return relevantes_en_top_k / k\n",
    "\n",
    "def average_precision(ranking, relevantes, k=10):\n",
    "    hits = 0\n",
    "    sum_precisions = 0\n",
    "    for i, idx in enumerate(ranking[:k], 1):\n",
    "        if idx in relevantes:\n",
    "            hits += 1\n",
    "            sum_precisions += hits / i\n",
    "    return sum_precisions / min(len(relevantes), k) if relevantes else 0\n",
    "\n",
    "# Rankings de TF-IDF y BM25\n",
    "ranking_tfidf = ranking_indices\n",
    "ranking_bm25 = ranking_bm25\n",
    "\n",
    "# Precision@3\n",
    "p3_tfidf = precision_at_k(ranking_tfidf, relevantes, k=3)\n",
    "p3_bm25 = precision_at_k(ranking_bm25, relevantes, k=3)\n",
    "\n",
    "# MAP@10\n",
    "map_tfidf = average_precision(ranking_tfidf, relevantes, k=10)\n",
    "map_bm25 = average_precision(ranking_bm25, relevantes, k=10)\n",
    "\n",
    "print(f\"TF-IDF Precision@3: {p3_tfidf:.2f}\")\n",
    "print(f\"BM25 Precision@3: {p3_bm25:.2f}\")\n",
    "print(f\"TF-IDF MAP@10: {map_tfidf:.2f}\")\n",
    "print(f\"BM25 MAP@10: {map_bm25:.2f}\")"
   ]
  },
  {
   "cell_type": "markdown",
   "id": "6b2d3b49",
   "metadata": {},
   "source": [
    "Todos los documentos relevantes que se definen como relevantes = {1315, 15919, 13222} están dentro de los primeros 3 lugares del ranking (para Precision@3) y dentro de los primeros 10 lugares (para MAP@10) tanto en TF-IDF como en BM25.\n",
    "Es decir, los modelos están recuperando perfectamente los documentos relevantes en las primeras posiciones como se puede ver en los literales anteriores."
   ]
  }
 ],
 "metadata": {
  "kernelspec": {
   "display_name": "Python 3",
   "language": "python",
   "name": "python3"
  },
  "language_info": {
   "codemirror_mode": {
    "name": "ipython",
    "version": 3
   },
   "file_extension": ".py",
   "mimetype": "text/x-python",
   "name": "python",
   "nbconvert_exporter": "python",
   "pygments_lexer": "ipython3",
   "version": "3.13.3"
  }
 },
 "nbformat": 4,
 "nbformat_minor": 5
}
